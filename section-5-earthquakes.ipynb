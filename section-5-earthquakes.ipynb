{
 "cells": [
  {
   "cell_type": "markdown",
   "id": "b190b1cb",
   "metadata": {},
   "source": [
    "# Discussion 5: Earthquakes & Git Branching"
   ]
  },
  {
   "cell_type": "markdown",
   "id": "08ef5d9f",
   "metadata": {},
   "source": []
  }
 ],
 "metadata": {
  "language_info": {
   "name": "python"
  }
 },
 "nbformat": 4,
 "nbformat_minor": 5
}
